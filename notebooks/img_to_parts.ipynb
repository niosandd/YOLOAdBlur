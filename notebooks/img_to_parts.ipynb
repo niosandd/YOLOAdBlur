{
 "cells": [
  {
   "cell_type": "code",
   "execution_count": 6,
   "id": "52c3d398-ee5e-491b-8572-82372fd9d7c6",
   "metadata": {},
   "outputs": [],
   "source": [
    "from PIL import Image\n",
    "\n",
    "def split_image_horizontal(image_path, output_path_part1, output_path_part2):\n",
    "    # Открываем изображение\n",
    "    original_image = Image.open(image_path)\n",
    "\n",
    "    # Преобразуем изображение в режим RGB\n",
    "    original_image = original_image.convert(\"RGB\")\n",
    "\n",
    "    # Получаем размеры изображения\n",
    "    width, height = original_image.size\n",
    "\n",
    "    # Разделяем изображение пополам по горизонтали\n",
    "    half_height = height // 2\n",
    "    part1 = original_image.crop((0, 0, width, half_height))\n",
    "    part2 = original_image.crop((0, half_height, width, height))\n",
    "\n",
    "    # Сохраняем две части изображения\n",
    "    part1.save(output_path_part1)\n",
    "    part2.save(output_path_part2)\n",
    "\n",
    "if __name__ == \"__main__\":\n",
    "    image_path = r\"D:\\DataScience\\Work\\advertising_blurring\\notebooks\\dataset_640_size\\v1\\frame_0_combined.png\"\n",
    "    output_path_part1 = \"часть1.jpg\"\n",
    "    output_path_part2 = \"часть2.jpg\"\n",
    "\n",
    "    split_image_horizontal(image_path, output_path_part1, output_path_part2)\n"
   ]
  },
  {
   "cell_type": "code",
   "execution_count": null,
   "id": "91719266-3d6a-46d6-9b63-e33d4d3b33d0",
   "metadata": {},
   "outputs": [],
   "source": []
  }
 ],
 "metadata": {
  "kernelspec": {
   "display_name": "venv_4",
   "language": "python",
   "name": "venv_4"
  },
  "language_info": {
   "codemirror_mode": {
    "name": "ipython",
    "version": 3
   },
   "file_extension": ".py",
   "mimetype": "text/x-python",
   "name": "python",
   "nbconvert_exporter": "python",
   "pygments_lexer": "ipython3",
   "version": "3.10.7"
  }
 },
 "nbformat": 4,
 "nbformat_minor": 5
}
