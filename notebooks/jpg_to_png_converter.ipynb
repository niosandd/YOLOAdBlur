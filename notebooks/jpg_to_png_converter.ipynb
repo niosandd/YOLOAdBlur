{
 "cells": [
  {
   "cell_type": "code",
   "execution_count": 1,
   "id": "5943c903-83d9-4d60-acac-e71bc17e725f",
   "metadata": {},
   "outputs": [
    {
     "name": "stderr",
     "output_type": "stream",
     "text": [
      "Преобразование файлов: 9файл [18:20, 122.29s/файл]"
     ]
    },
    {
     "name": "stdout",
     "output_type": "stream",
     "text": [
      "Преобразование завершено.\n"
     ]
    },
    {
     "name": "stderr",
     "output_type": "stream",
     "text": [
      "\n"
     ]
    }
   ],
   "source": [
    "from PIL import Image\n",
    "import os\n",
    "from tqdm import tqdm\n",
    "\n",
    "input_folder = r'D:\\DataScience\\Work\\advertising_blurring\\dataset\\frames'\n",
    "output_folder = r'D:\\DataScience\\Work\\advertising_blurring\\dataset\\output_frames'\n",
    "\n",
    "# Используем os.walk для обхода всех файлов внутри подпапок\n",
    "for dirpath, dirnames, filenames in tqdm(os.walk(input_folder), desc='Преобразование файлов', unit='файл'):\n",
    "    for filename in filenames:\n",
    "        if filename.endswith(\".jpg\"):\n",
    "            # Сформируем полные пути к файлам\n",
    "            input_path = os.path.join(dirpath, filename)\n",
    "            relative_path = os.path.relpath(input_path, input_folder)\n",
    "            output_path = os.path.join(output_folder, os.path.splitext(relative_path)[0] + \".png\")\n",
    "\n",
    "            # Убедимся, что папка для сохранения существует\n",
    "            os.makedirs(os.path.dirname(output_path), exist_ok=True)\n",
    "\n",
    "            # Открываем изображение и сохраняем в формате PNG\n",
    "            with Image.open(input_path) as img:\n",
    "                img.save(output_path, format=\"PNG\")\n",
    "\n",
    "print(\"Преобразование завершено.\")\n"
   ]
  },
  {
   "cell_type": "code",
   "execution_count": 2,
   "id": "aceaf921-da4f-451c-934b-8f8a2a6a586e",
   "metadata": {},
   "outputs": [],
   "source": [
    "from PIL import Image\n",
    "import os\n",
    "\n",
    "# Указываем путь к папке с изображениями\n",
    "folder_path = r'D:\\DataScience\\Work\\advertising_blurring\\notebooks\\new_size_v2_test\\v2'\n",
    "\n",
    "# Перебираем все файлы в указанной папке\n",
    "for filename in os.listdir(folder_path):\n",
    "    # Проверяем, является ли файл файлом с расширением JPG\n",
    "    if filename.endswith(\".jpg\"):\n",
    "        # Формируем полный путь к файлу\n",
    "        file_path = os.path.join(folder_path, filename)\n",
    "        \n",
    "        # Открываем изображение\n",
    "        img = Image.open(file_path)\n",
    "        \n",
    "        # Создаем новое имя файла с расширением PNG\n",
    "        new_filename = os.path.splitext(filename)[0] + \".png\"\n",
    "        \n",
    "        # Формируем полный путь к новому файлу\n",
    "        new_file_path = os.path.join(folder_path, new_filename)\n",
    "        \n",
    "        # Сохраняем изображение в формате PNG\n",
    "        img.save(new_file_path, \"PNG\")\n",
    "        \n",
    "        # Закрываем изображение\n",
    "        img.close()\n",
    "        \n",
    "        # Опционально: удаляем оригинальный файл с расширением JPG\n",
    "        os.remove(file_path)\n"
   ]
  },
  {
   "cell_type": "code",
   "execution_count": null,
   "id": "1176df7a-b6d2-410a-b74b-b5ae53379e58",
   "metadata": {},
   "outputs": [],
   "source": []
  }
 ],
 "metadata": {
  "kernelspec": {
   "display_name": "venv_4",
   "language": "python",
   "name": "venv_4"
  },
  "language_info": {
   "codemirror_mode": {
    "name": "ipython",
    "version": 3
   },
   "file_extension": ".py",
   "mimetype": "text/x-python",
   "name": "python",
   "nbconvert_exporter": "python",
   "pygments_lexer": "ipython3",
   "version": "3.10.7"
  }
 },
 "nbformat": 4,
 "nbformat_minor": 5
}
