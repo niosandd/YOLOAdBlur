{
 "cells": [
  {
   "cell_type": "code",
   "execution_count": 2,
   "id": "f61b988e-76c9-4ed8-9429-50222526c96e",
   "metadata": {},
   "outputs": [],
   "source": [
    "from PIL import Image\n",
    "import os\n",
    "\n",
    "def process_images(input_folder, output_folder):\n",
    "    # Проверяем, существует ли выходная папка, и создаем ее, если необходимо\n",
    "    if not os.path.exists(output_folder):\n",
    "        os.makedirs(output_folder)\n",
    "\n",
    "    # Обходим все подпапки входной папки\n",
    "    for root, dirs, files in os.walk(input_folder):\n",
    "        for file in files:\n",
    "            # Полный путь к текущему файлу\n",
    "            input_path = os.path.join(root, file)\n",
    "\n",
    "            # Открываем изображение\n",
    "            original_image = Image.open(input_path)\n",
    "\n",
    "            # Получаем размеры изображения\n",
    "            width, height = original_image.size\n",
    "\n",
    "            # Создаем белое изображение такого же размера\n",
    "            white_image = Image.new(\"RGB\", (width, height), \"white\")\n",
    "\n",
    "            # Объединяем оригинальное изображение и белое изображение снизу\n",
    "            combined_image = Image.new(\"RGB\", (width, height * 2))\n",
    "            combined_image.paste(original_image, (0, 0))\n",
    "            combined_image.paste(white_image, (0, height))\n",
    "\n",
    "            # Получаем путь для сохранения в выходной папке\n",
    "            relative_path = os.path.relpath(input_path, input_folder)\n",
    "            output_path = os.path.join(output_folder, relative_path)\n",
    "\n",
    "            # Проверяем, существует ли выходная подпапка, и создаем ее, если необходимо\n",
    "            output_subfolder = os.path.dirname(output_path)\n",
    "            if not os.path.exists(output_subfolder):\n",
    "                os.makedirs(output_subfolder)\n",
    "\n",
    "            # Сохраняем объединенное изображение\n",
    "            combined_image.save(output_path)\n",
    "\n",
    "\n",
    "if __name__ == \"__main__\":\n",
    "    # Укажите путь к входной и выходной папкам\n",
    "    input_folder = r\"D:\\DataScience\\Work\\advertising_blurring\\dataset\\frames\\test\\v2\"\n",
    "    output_folder = r\"D:\\DataScience\\Work\\advertising_blurring\\dataset\\dataset_with_white_part_test\\v2\"\n",
    "\n",
    "    process_images(input_folder, output_folder)\n"
   ]
  },
  {
   "cell_type": "code",
   "execution_count": null,
   "id": "3ceb80b6-c1b4-4e00-8c44-f0ff28ecb729",
   "metadata": {},
   "outputs": [],
   "source": []
  }
 ],
 "metadata": {
  "kernelspec": {
   "display_name": "venv_4",
   "language": "python",
   "name": "venv_4"
  },
  "language_info": {
   "codemirror_mode": {
    "name": "ipython",
    "version": 3
   },
   "file_extension": ".py",
   "mimetype": "text/x-python",
   "name": "python",
   "nbconvert_exporter": "python",
   "pygments_lexer": "ipython3",
   "version": "3.10.7"
  }
 },
 "nbformat": 4,
 "nbformat_minor": 5
}
