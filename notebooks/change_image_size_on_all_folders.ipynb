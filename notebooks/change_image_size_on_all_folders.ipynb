{
 "cells": [
  {
   "cell_type": "code",
   "execution_count": 1,
   "id": "9bc39bfe-1c3e-48c2-a48d-2e85d00c42be",
   "metadata": {},
   "outputs": [],
   "source": [
    "# resize image"
   ]
  },
  {
   "cell_type": "code",
   "execution_count": 2,
   "id": "675a7282-f7ce-44a6-b3fe-f3cb383cb58a",
   "metadata": {},
   "outputs": [
    {
     "name": "stdout",
     "output_type": "stream",
     "text": [
      "Изображение изменено и сохранено по новому пути: D:\\DataScience\\Work\\advertising_blurring\\notebooks\\resized_frame_0_combined.png\n"
     ]
    }
   ],
   "source": [
    "from PIL import Image\n",
    "\n",
    "def resize_and_save_image(input_path, output_path, new_size):\n",
    "    with Image.open(input_path) as img:\n",
    "        resized_img = img.resize(new_size)\n",
    "        resized_img.save(output_path)\n",
    "\n",
    "# Замените \"путь_к_изображению\" и \"новый_путь_к_изображению\" на ваши реальные пути\n",
    "input_image_path = r\"D:\\DataScience\\Work\\advertising_blurring\\notebooks\\tmp\\frame_0_combined.png\"\n",
    "output_image_path = r\"D:\\DataScience\\Work\\advertising_blurring\\notebooks\\resized_frame_0_combined.png\"\n",
    "new_size = (640, 720)  # Новый размер изображения\n",
    "\n",
    "resize_and_save_image(input_image_path, output_image_path, new_size)\n",
    "print(f\"Изображение изменено и сохранено по новому пути: {output_image_path}\")\n"
   ]
  },
  {
   "cell_type": "code",
   "execution_count": 2,
   "id": "086377da-b783-440b-93cc-c3df83eef26f",
   "metadata": {},
   "outputs": [
    {
     "name": "stdout",
     "output_type": "stream",
     "text": [
      "Изображения успешно изменены и сохранены в новом размере.\n"
     ]
    }
   ],
   "source": [
    "from PIL import Image\n",
    "import os\n",
    "import cv2\n",
    "\n",
    "# Путь к исходной папке с изображениями\n",
    "image_folder =  r\"D:\\DataScience\\Work\\advertising_blurring\\dataset\\dataset_with_white_part_test\\v2\"\n",
    "\n",
    "# Путь к папке для сохранения измененных изображений\n",
    "output_folder = r\"D:\\DataScience\\Work\\advertising_blurring\\notebooks\\new_size_v2_test\\v2\"\n",
    "\n",
    "# Размер, в который вы хотите изменить изображения\n",
    "new_size = (640, 640)\n",
    "\n",
    "# Создаем папку для сохранения измененных изображений, если она еще не существует\n",
    "if not os.path.exists(output_folder):\n",
    "    os.makedirs(output_folder)\n",
    "\n",
    "# Перебираем все подпапки в исходной папке\n",
    "for subdir, dirs, files in os.walk(image_folder):\n",
    "    for file in files:\n",
    "        # Полный путь к текущему изображению\n",
    "        img_path = os.path.join(subdir, file)\n",
    "\n",
    "        # Загружаем изображение с помощью OpenCV\n",
    "        img = cv2.imread(img_path)\n",
    "\n",
    "        # Изменяем размер изображения\n",
    "        img_resized = cv2.resize(img, new_size)\n",
    "\n",
    "        # Получаем относительный путь к изображению относительно исходной папки\n",
    "        relative_path = os.path.relpath(img_path, image_folder)\n",
    "\n",
    "        # Создаем папку для сохранения измененных изображений в новой папке\n",
    "        output_subfolder = os.path.join(output_folder, os.path.dirname(relative_path))\n",
    "        if not os.path.exists(output_subfolder):\n",
    "            os.makedirs(output_subfolder)\n",
    "\n",
    "        # Полный путь для сохранения измененного изображения\n",
    "        output_path = os.path.join(output_folder, relative_path)\n",
    "\n",
    "        # Сохраняем измененное изображение\n",
    "        cv2.imwrite(output_path, img_resized)\n",
    "\n",
    "print(\"Изображения успешно изменены и сохранены в новом размере.\")\n"
   ]
  },
  {
   "cell_type": "code",
   "execution_count": 4,
   "id": "01afffdc-1d76-4f4c-9c5c-260a76612d7c",
   "metadata": {},
   "outputs": [],
   "source": [
    "# from PIL import Image\n",
    "# import os\n",
    "\n",
    "# # Путь к исходной папке с изображениями\n",
    "# image_folder = r\"D:\\DataScience\\Work\\advertising_blurring\\dataset\\img_with_white_img\"\n",
    "\n",
    "# # Путь для сохранения измененных изображений\n",
    "# output_folder = r\"D:\\DataScience\\Work\\advertising_blurring\\dataset\\resized_images\"\n",
    "\n",
    "# # Создаем папку для сохранения, если её нет\n",
    "# os.makedirs(output_folder, exist_ok=True)\n",
    "\n",
    "# # Размер, к которому мы хотим изменить изображения\n",
    "# target_size = (640, 640)\n",
    "\n",
    "# # Проходим по подпапкам\n",
    "# for subdir in os.listdir(image_folder):\n",
    "#     subdir_path = os.path.join(image_folder, subdir)\n",
    "\n",
    "#     # Проверяем, что это действительно подпапка\n",
    "#     if os.path.isdir(subdir_path):\n",
    "#         # Проходим по файлам в подпапке\n",
    "#         for filename in os.listdir(subdir_path):\n",
    "#             file_path = os.path.join(subdir_path, filename)\n",
    "\n",
    "#             # Проверяем, что это файл изображения\n",
    "#             if os.path.isfile(file_path) and filename.lower().endswith(('.png', '.jpg', '.jpeg')):\n",
    "#                 # Открываем изображение\n",
    "#                 img = Image.open(file_path)\n",
    "\n",
    "#                 # Изменяем размер\n",
    "#                 img_resized = img.resize(target_size, Image.ANTIALIAS)\n",
    "\n",
    "#                 # Путь для сохранения измененного изображения\n",
    "#                 output_path = os.path.join(output_folder, subdir, filename)\n",
    "\n",
    "#                 # Создаем папку для сохранения, если её нет\n",
    "#                 os.makedirs(os.path.dirname(output_path), exist_ok=True)\n",
    "\n",
    "#                 # Сохраняем измененное изображение\n",
    "#                 img_resized.save(output_path)\n",
    "\n",
    "#                 print(f\"Изображение {filename} в размере {target_size} сохранено по пути {output_path}\")\n"
   ]
  },
  {
   "cell_type": "code",
   "execution_count": null,
   "id": "9816449b-7cb0-4adf-8d1d-840aba0a5911",
   "metadata": {},
   "outputs": [],
   "source": []
  }
 ],
 "metadata": {
  "kernelspec": {
   "display_name": "venv_4",
   "language": "python",
   "name": "venv_4"
  },
  "language_info": {
   "codemirror_mode": {
    "name": "ipython",
    "version": 3
   },
   "file_extension": ".py",
   "mimetype": "text/x-python",
   "name": "python",
   "nbconvert_exporter": "python",
   "pygments_lexer": "ipython3",
   "version": "3.10.7"
  }
 },
 "nbformat": 4,
 "nbformat_minor": 5
}
