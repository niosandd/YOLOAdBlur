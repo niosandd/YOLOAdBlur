{
 "cells": [
  {
   "cell_type": "code",
   "execution_count": 1,
   "id": "a76f7dbb-0562-44eb-9431-35d0367f8ee4",
   "metadata": {},
   "outputs": [],
   "source": [
    "from PIL import Image, ImageDraw"
   ]
  },
  {
   "cell_type": "code",
   "execution_count": 3,
   "id": "5468f78d-64a1-462c-a512-f44b3aab7cb8",
   "metadata": {},
   "outputs": [
    {
     "name": "stdout",
     "output_type": "stream",
     "text": [
      "Размер Паттерна: 640 x 640 пикселей\n"
     ]
    }
   ],
   "source": [
    "def get_image_size(image_path):\n",
    "    with Image.open(image_path) as img:\n",
    "        width, height = img.size\n",
    "    return width, height\n",
    "\n",
    "# Замените \"путь_к_изображению\" на реальный путь к вашему изображению\n",
    "image_path = r\"D:\\DataScience/Work/advertising_blurring/notebooks/f1/output_image.png\"\n",
    "size = get_image_size(image_path)\n",
    "print(f\"Размер Паттерна: {size[0]} x {size[1]} пикселей\")"
   ]
  },
  {
   "cell_type": "code",
   "execution_count": 11,
   "id": "431af61b-2b75-4705-b9af-ba8ce5cd687f",
   "metadata": {},
   "outputs": [
    {
     "name": "stdout",
     "output_type": "stream",
     "text": [
      "Визуализированное изображение сохранено по пути: D:\\DataScience/Work/advertising_blurring/notebooks/frame_0_visualized.png\n"
     ]
    }
   ],
   "source": [
    "import cv2\n",
    "import numpy as np\n",
    "\n",
    "# Загрузка изображения\n",
    "image_path = \"D:\\DataScience/Work/advertising_blurring/notebooks/tmpp/frame_0_combined.png\"\n",
    "image = cv2.imread(image_path)\n",
    "\n",
    "# Новые координаты (нормализованные)\n",
    "new_coordinates = np.array([0.499609375, 0.75, 0.14296875, 0.03333333333333333])\n",
    "\n",
    "# Преобразование нормализованных координат в абсолютные значения\n",
    "h, w, _ = image.shape\n",
    "new_coordinates *= np.array([w, h, w, h])\n",
    "new_coordinates = new_coordinates.astype(int)\n",
    "\n",
    "# Отрисовка прямоугольника на изображении\n",
    "x, y, x_end, y_end = new_coordinates\n",
    "cv2.rectangle(image, (x, y), (x_end, y_end), (0, 255, 0), 2)\n",
    "\n",
    "# Отображение изображения с прямоугольниками\n",
    "cv2.imshow(\"Visualization\", image)\n",
    "cv2.waitKey(0)\n",
    "cv2.destroyAllWindows()\n",
    "\n",
    "# Сохранение изображения с нарисованными прямоугольниками\n",
    "output_image_path = \"D:\\DataScience/Work/advertising_blurring/notebooks/frame_0_visualized.png\"\n",
    "cv2.imwrite(output_image_path, image)\n",
    "\n",
    "print(f\"Визуализированное изображение сохранено по пути: {output_image_path}\")\n"
   ]
  },
  {
   "cell_type": "code",
   "execution_count": 4,
   "id": "0ac887b5-eb3d-4c3f-b282-787610f6c2a5",
   "metadata": {},
   "outputs": [],
   "source": [
    "from PIL import Image, ImageDraw\n",
    "\n",
    "# Координаты\n",
    "coordinates = [\n",
    "    (0.6394382911392404, 0.2270569620253165, 0.6380813953488371, 0.264656007751938 ),\n",
    "    (0.35625, 0.725, 0.6421875, 0.775)\n",
    "]\n",
    "\n",
    "# Путь к изображению\n",
    "image_path = r\"D:\\DataScience\\Work\\advertising_blurring\\notebooks\\v1\\frame_0_combined.png\"\n",
    "\n",
    "# Открываем изображение\n",
    "image = Image.open(image_path)\n",
    "\n",
    "# Создаем объект ImageDraw\n",
    "draw = ImageDraw.Draw(image)\n",
    "\n",
    "# Рисуем прямоугольники на изображении\n",
    "for coord in coordinates:\n",
    "    left = int(coord[0] * image.width)\n",
    "    top = int(coord[1] * image.height)\n",
    "    right = int(coord[2] * image.width)\n",
    "    bottom = int(coord[3] * image.height)\n",
    "\n",
    "    draw.rectangle([left, top, right, bottom], outline=\"red\", width=2)\n",
    "\n",
    "# Сохраняем результат\n",
    "# Сохраняем результат\n",
    "output_path = r\"D:\\\\DataScience\\\\Work\\\\advertising_blurring\\\\notebooks\\\\\\frame_0_combined_with_boxes.png\"\n",
    "image.save(output_path)\n",
    "\n",
    "\n",
    "# Открываем и отображаем изображение с нарисованными прямоугольниками\n",
    "image.show()\n"
   ]
  },
  {
   "cell_type": "code",
   "execution_count": null,
   "id": "af897d9c-eff0-4733-baaa-7e3321561039",
   "metadata": {},
   "outputs": [],
   "source": []
  },
  {
   "cell_type": "code",
   "execution_count": null,
   "id": "42a5a00c-7ec4-4ce2-81bd-15e7e6fef099",
   "metadata": {},
   "outputs": [],
   "source": []
  }
 ],
 "metadata": {
  "kernelspec": {
   "display_name": "venv_4",
   "language": "python",
   "name": "venv_4"
  },
  "language_info": {
   "codemirror_mode": {
    "name": "ipython",
    "version": 3
   },
   "file_extension": ".py",
   "mimetype": "text/x-python",
   "name": "python",
   "nbconvert_exporter": "python",
   "pygments_lexer": "ipython3",
   "version": "3.10.7"
  }
 },
 "nbformat": 4,
 "nbformat_minor": 5
}
