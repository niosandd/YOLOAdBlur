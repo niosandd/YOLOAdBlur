{
 "cells": [
  {
   "cell_type": "code",
   "execution_count": 2,
   "id": "8777bfa8-81d2-4bbb-bd94-ea9fe3e38e68",
   "metadata": {},
   "outputs": [],
   "source": [
    "from PIL import Image, ImageDraw"
   ]
  },
  {
   "cell_type": "code",
   "execution_count": 7,
   "id": "0d8d9208-ff25-464e-ae1f-aa6c6255909a",
   "metadata": {},
   "outputs": [],
   "source": [
    "input_image_path = r\"D:\\DataScience/Work/advertising_blurring/dataset/pattern_on_test_dataset/smeshariki-ch-b.png\"\n",
    "image = Image.open(input_image_path)\n",
    "\n",
    "# Изменяем размер изображения\n",
    "new_size = (183, 48)\n",
    "resized_image = image.resize(new_size)\n",
    "\n",
    "# Сохраняем измененное изображение\n",
    "output_image_path = r\"D:\\DataScience/Work/advertising_blurring/dataset/pattern_on_test_dataset/smeshariki-ch-b.png\"\n",
    "resized_image.save(output_image_path)\n",
    "\n",
    "# Закрываем изображение\n",
    "image.close()"
   ]
  },
  {
   "cell_type": "code",
   "execution_count": null,
   "id": "7770fcd8-7941-42e8-b05c-5b8044bc62c0",
   "metadata": {},
   "outputs": [],
   "source": []
  }
 ],
 "metadata": {
  "kernelspec": {
   "display_name": "Python 3 (ipykernel)",
   "language": "python",
   "name": "python3"
  },
  "language_info": {
   "codemirror_mode": {
    "name": "ipython",
    "version": 3
   },
   "file_extension": ".py",
   "mimetype": "text/x-python",
   "name": "python",
   "nbconvert_exporter": "python",
   "pygments_lexer": "ipython3",
   "version": "3.9.12"
  }
 },
 "nbformat": 4,
 "nbformat_minor": 5
}
