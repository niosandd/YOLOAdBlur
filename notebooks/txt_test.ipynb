{
 "cells": [
  {
   "cell_type": "code",
   "execution_count": 4,
   "id": "8e83ee0f-a3ec-458c-9ab4-5cdfaecf9f46",
   "metadata": {},
   "outputs": [
    {
     "name": "stdout",
     "output_type": "stream",
     "text": [
      "['0', '0.499219', '0.762500', '0.285938', '0.075000']\n"
     ]
    }
   ],
   "source": [
    "with open(r'D:\\DataScience/Work/advertising_blurring/notebooks/fk/output_image.txt', 'r') as file:\n",
    "    lines = file.readlines()\n",
    "\n",
    "for line in lines:\n",
    "    data = line.split()\n",
    "    label = int(data[0])\n",
    "    x_center = float(data[1])\n",
    "    y_center = float(data[2])\n",
    "    width = float(data[3])\n",
    "    height = float(data[4])\n",
    "    \n",
    "print(data)"
   ]
  },
  {
   "cell_type": "code",
   "execution_count": null,
   "id": "e993b43b-392e-4300-863c-9abc882c0c73",
   "metadata": {},
   "outputs": [],
   "source": []
  }
 ],
 "metadata": {
  "kernelspec": {
   "display_name": "venv_4",
   "language": "python",
   "name": "venv_4"
  },
  "language_info": {
   "codemirror_mode": {
    "name": "ipython",
    "version": 3
   },
   "file_extension": ".py",
   "mimetype": "text/x-python",
   "name": "python",
   "nbconvert_exporter": "python",
   "pygments_lexer": "ipython3",
   "version": "3.10.7"
  }
 },
 "nbformat": 4,
 "nbformat_minor": 5
}
