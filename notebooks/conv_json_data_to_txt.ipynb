{
 "cells": [
  {
   "cell_type": "code",
   "execution_count": 1,
   "id": "e036f3c4-e9a6-47d2-8a72-1f7c062b93af",
   "metadata": {},
   "outputs": [
    {
     "name": "stderr",
     "output_type": "stream",
     "text": [
      "100%|██████████████████████████████████████████████████████████████████████████████████| 15/15 [00:00<00:00, 41.58it/s]\n"
     ]
    }
   ],
   "source": [
    "from pathlib import Path\n",
    "import json\n",
    "from tqdm import tqdm\n",
    "from itertools import chain\n",
    "\n",
    "yolo_labels_path = r\"D:\\DataScience\\Work\\advertising_blurring\\notebooks\\test_label_img\\v1\"\n",
    "\n",
    "for file in tqdm(list(Path(yolo_labels_path).rglob(\"*.json\"))):\n",
    "    with open(file) as json_file:\n",
    "        data = json.load(json_file)\n",
    "        txt_file = file.with_suffix(\".txt\")\n",
    "\n",
    "        with open(Path(yolo_labels_path).joinpath(txt_file), \"w\") as outfile:\n",
    "            for shape in data.get(\"shapes\", []):\n",
    "                result_list = list(\n",
    "                    chain(*[[str(x[0] / data[\"imageWidth\"]), str(x[1] / data[\"imageHeight\"])] for x in shape[\"points\"]])\n",
    "                )\n",
    "\n",
    "                result_string = \" \".join(result_list)\n",
    "                if result_string:\n",
    "                    outfile.write(f\"0 {result_string}\\n\")\n"
   ]
  },
  {
   "cell_type": "code",
   "execution_count": null,
   "id": "7e6b5495-30b6-44b7-a876-de39ed5ac84e",
   "metadata": {},
   "outputs": [],
   "source": []
  }
 ],
 "metadata": {
  "kernelspec": {
   "display_name": "venv_4",
   "language": "python",
   "name": "venv_4"
  },
  "language_info": {
   "codemirror_mode": {
    "name": "ipython",
    "version": 3
   },
   "file_extension": ".py",
   "mimetype": "text/x-python",
   "name": "python",
   "nbconvert_exporter": "python",
   "pygments_lexer": "ipython3",
   "version": "3.10.7"
  }
 },
 "nbformat": 4,
 "nbformat_minor": 5
}
